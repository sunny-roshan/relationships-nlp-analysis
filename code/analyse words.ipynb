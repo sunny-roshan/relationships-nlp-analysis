{
 "cells": [
  {
   "cell_type": "markdown",
   "id": "b5c52977-fd2e-4c7d-94c8-0cb6032df605",
   "metadata": {},
   "source": [
    "**Tasks:**  \n",
    "1. Load and clean scraped text: Import the text, convert it to lowercase, remove punctuation and stop words (using nltk).  \n",
    "2. Tokenize and Analyze: Split the text into words and calculate word frequencies.  \n",
    "3. Visualize Results:  \n",
    "   (a) create a bar chart of the top 10 most frequent words.  \n",
    "   (b) Optionally, generate a word cloud."
   ]
  },
  {
   "cell_type": "code",
   "execution_count": 2,
   "id": "8b66f45b-bb33-4ec3-9376-7f3240217115",
   "metadata": {},
   "outputs": [],
   "source": [
    "import os\n",
    "import pandas as pd\n",
    "import re\n",
    "from pathlib import Path\n",
    "from datetime import datetime\n",
    "from wordcloud import WordCloud\n",
    "import matplotlib.pyplot as plt\n",
    "import nltk\n",
    "from nltk.corpus import stopwords\n",
    "import nltk.tokenize.punkt\n",
    "from sklearn.feature_extraction.text import CountVectorizer\n",
    "from sklearn.decomposition import LatentDirichletAllocation\n",
    "from nltk.tokenize import word_tokenize"
   ]
  },
  {
   "cell_type": "code",
   "execution_count": 4,
   "id": "69cf6e2d-853d-4904-b4e9-32d4c52fe109",
   "metadata": {},
   "outputs": [],
   "source": [
    "# Set paths\n",
    "code_dir = Path().resolve()\n",
    "base_dir = Path().resolve().parent\n",
    "output_dir = base_dir / \"output\""
   ]
  },
  {
   "cell_type": "code",
   "execution_count": 6,
   "id": "fcef47f2-35d1-45d9-bfa2-9127d7f8c54e",
   "metadata": {},
   "outputs": [
    {
     "name": "stdout",
     "output_type": "stream",
     "text": [
      "Repo root: /Users/sunny/Documents/GitHub/nlp-analysis \n",
      "Code: /Users/sunny/Documents/GitHub/nlp-analysis/code \n",
      "Output: /Users/sunny/Documents/GitHub/nlp-analysis/output\n"
     ]
    }
   ],
   "source": [
    "print(f\"Repo root: {base_dir} \\nCode: {code_dir} \\nOutput: {output_dir}\")"
   ]
  },
  {
   "cell_type": "code",
   "execution_count": 8,
   "id": "b30deccd-e130-4268-aaab-b82833a975ad",
   "metadata": {},
   "outputs": [],
   "source": [
    "# Load scraped data"
   ]
  },
  {
   "cell_type": "code",
   "execution_count": 10,
   "id": "bffdbb78-22b5-4f7e-b37f-d2e6ebe273b8",
   "metadata": {},
   "outputs": [],
   "source": [
    "guardian_relationships = pd.read_csv(output_dir / \"guardian_relationships_articles.csv\")"
   ]
  },
  {
   "cell_type": "code",
   "execution_count": 12,
   "id": "a8d2281b-0c40-4d9b-823a-51af252d474c",
   "metadata": {},
   "outputs": [
    {
     "data": {
      "text/html": [
       "<div>\n",
       "<style scoped>\n",
       "    .dataframe tbody tr th:only-of-type {\n",
       "        vertical-align: middle;\n",
       "    }\n",
       "\n",
       "    .dataframe tbody tr th {\n",
       "        vertical-align: top;\n",
       "    }\n",
       "\n",
       "    .dataframe thead th {\n",
       "        text-align: right;\n",
       "    }\n",
       "</style>\n",
       "<table border=\"1\" class=\"dataframe\">\n",
       "  <thead>\n",
       "    <tr style=\"text-align: right;\">\n",
       "      <th></th>\n",
       "      <th>title</th>\n",
       "      <th>link</th>\n",
       "      <th>date</th>\n",
       "      <th>text</th>\n",
       "    </tr>\n",
       "  </thead>\n",
       "  <tbody>\n",
       "    <tr>\n",
       "      <th>0</th>\n",
       "      <td>Going boysober: the women who turned to celiba...</td>\n",
       "      <td>https://www.theguardian.com/lifeandstyle/2024/...</td>\n",
       "      <td>2024-12-30 14:00:00</td>\n",
       "      <td>Some call it “boysober”. Others take inspirati...</td>\n",
       "    </tr>\n",
       "    <tr>\n",
       "      <th>1</th>\n",
       "      <td>We opened up our marriage, but now I feel aban...</td>\n",
       "      <td>https://www.theguardian.com/lifeandstyle/2024/...</td>\n",
       "      <td>2024-12-29 06:00:00</td>\n",
       "      <td>: The open relationship you and your wife agre...</td>\n",
       "    </tr>\n",
       "    <tr>\n",
       "      <th>2</th>\n",
       "      <td>Six hours, six weddings and a schnauzer: insid...</td>\n",
       "      <td>https://www.theguardian.com/lifeandstyle/2024/...</td>\n",
       "      <td>2024-12-28 19:00:00</td>\n",
       "      <td>It’s 11 am on a Sunday in Unexpected Guest, on...</td>\n",
       "    </tr>\n",
       "    <tr>\n",
       "      <th>3</th>\n",
       "      <td>Blind date: ‘The glare of the Christmas lights...</td>\n",
       "      <td>https://www.theguardian.com/lifeandstyle/2024/...</td>\n",
       "      <td>2024-12-28 06:00:00</td>\n",
       "      <td>To meet someone intelligent that I could have ...</td>\n",
       "    </tr>\n",
       "    <tr>\n",
       "      <th>4</th>\n",
       "      <td>My son’s girlfriend has taken over his life an...</td>\n",
       "      <td>https://www.theguardian.com/lifeandstyle/2024/...</td>\n",
       "      <td>2024-12-27 14:30:00</td>\n",
       "      <td>I do understand your worry. But what is it abo...</td>\n",
       "    </tr>\n",
       "  </tbody>\n",
       "</table>\n",
       "</div>"
      ],
      "text/plain": [
       "                                               title  \\\n",
       "0  Going boysober: the women who turned to celiba...   \n",
       "1  We opened up our marriage, but now I feel aban...   \n",
       "2  Six hours, six weddings and a schnauzer: insid...   \n",
       "3  Blind date: ‘The glare of the Christmas lights...   \n",
       "4  My son’s girlfriend has taken over his life an...   \n",
       "\n",
       "                                                link                 date  \\\n",
       "0  https://www.theguardian.com/lifeandstyle/2024/...  2024-12-30 14:00:00   \n",
       "1  https://www.theguardian.com/lifeandstyle/2024/...  2024-12-29 06:00:00   \n",
       "2  https://www.theguardian.com/lifeandstyle/2024/...  2024-12-28 19:00:00   \n",
       "3  https://www.theguardian.com/lifeandstyle/2024/...  2024-12-28 06:00:00   \n",
       "4  https://www.theguardian.com/lifeandstyle/2024/...  2024-12-27 14:30:00   \n",
       "\n",
       "                                                text  \n",
       "0  Some call it “boysober”. Others take inspirati...  \n",
       "1  : The open relationship you and your wife agre...  \n",
       "2  It’s 11 am on a Sunday in Unexpected Guest, on...  \n",
       "3  To meet someone intelligent that I could have ...  \n",
       "4  I do understand your worry. But what is it abo...  "
      ]
     },
     "execution_count": 12,
     "metadata": {},
     "output_type": "execute_result"
    }
   ],
   "source": [
    "guardian_relationships.head()"
   ]
  },
  {
   "cell_type": "code",
   "execution_count": 14,
   "id": "dc03d224-fc0d-424d-9d5c-2ca1e718806b",
   "metadata": {},
   "outputs": [
    {
     "data": {
      "text/plain": [
       "title    1980\n",
       "link     1980\n",
       "date     1975\n",
       "text     1953\n",
       "dtype: int64"
      ]
     },
     "execution_count": 14,
     "metadata": {},
     "output_type": "execute_result"
    }
   ],
   "source": [
    "# Check missing?\n",
    "guardian_relationships.notna().sum()  # 27 missings for text out of 1980 articles - can safely drop"
   ]
  },
  {
   "cell_type": "code",
   "execution_count": null,
   "id": "f36b309e-0a0a-469f-a91b-21efac017da6",
   "metadata": {},
   "outputs": [],
   "source": [
    "for link in guardian_relationships.loc[guardian_relationships[\"text\"].isna(), \"link\"]:\n",
    "    #print(link)\n",
    "\n",
    "# All the missing entries are mostly podcasts, a few cartoons, and a few picture galleries. So can be dropped."
   ]
  },
  {
   "cell_type": "code",
   "execution_count": 16,
   "id": "aa9fe24c-d2b6-471c-9576-09af1599cca4",
   "metadata": {},
   "outputs": [],
   "source": [
    "guardian_relationships = guardian_relationships[~guardian_relationships[\"text\"].isna()]"
   ]
  },
  {
   "cell_type": "code",
   "execution_count": 18,
   "id": "03eeeb3c-8a95-444b-b85f-65e23a1dd352",
   "metadata": {},
   "outputs": [],
   "source": [
    "guardian_relationships[\"date\"] = pd.to_datetime(guardian_relationships[\"date\"])"
   ]
  },
  {
   "cell_type": "code",
   "execution_count": 20,
   "id": "4c5db1d3-a8ef-4a21-89ee-b6fe58e6ec97",
   "metadata": {},
   "outputs": [],
   "source": [
    "# Step 1: Preprocess the text (convert to lowercase to ensure case-insensitive matching)\n",
    "guardian_relationships[\"processed_text\"] = guardian_relationships[\"text\"].str.lower()"
   ]
  },
  {
   "cell_type": "code",
   "execution_count": 103,
   "id": "4917aa88-29fe-404f-b460-0d04cc0ea74b",
   "metadata": {},
   "outputs": [],
   "source": [
    "# Step 2: Count occurrences of the word \"situationship\" in each article\n",
    "#guardian_relationships[\"word_count\"] = guardian_relationships[\"processed_text\"].str.count(r\"\\bsituationships?\\'?s?\\b\")\n",
    "guardian_relationships[\"word_count\"] = guardian_relationships[\"processed_text\"].str.count(r\"\\blockdown\\b\")"
   ]
  },
  {
   "cell_type": "code",
   "execution_count": 104,
   "id": "799cd536-842b-4a49-a6dd-45245a6492eb",
   "metadata": {},
   "outputs": [],
   "source": [
    "# Step 3: Group by a broader time unit (e.g., monthly)\n",
    "word_frequency = guardian_relationships.groupby(guardian_relationships[\"date\"].dt.to_period(\"M\"))[\"word_count\"].sum().reset_index()\n",
    "word_frequency[\"date\"] = word_frequency[\"date\"].dt.to_timestamp()"
   ]
  },
  {
   "cell_type": "code",
   "execution_count": 107,
   "id": "cd16e478-2c2f-4a78-ac13-39bd723507f3",
   "metadata": {},
   "outputs": [
    {
     "data": {
      "image/png": "[encoded data removed]",
      "text/plain": [
       "<Figure size 1200x600 with 1 Axes>"
      ]
     },
     "metadata": {},
     "output_type": "display_data"
    }
   ],
   "source": [
    "# Step 5: Plot the time series\n",
    "plt.figure(figsize=(12, 6))\n",
    "plt.plot(word_frequency[\"date\"], word_frequency[\"word_count\"], marker=\"o\", linestyle=\"-\", color=\"b\")\n",
    "plt.title(\"Frequency of the Word 'Relationship' Over Time\")\n",
    "plt.xlabel(\"Date\")\n",
    "plt.ylabel(\"Frequency\")\n",
    "plt.grid(True)\n",
    "plt.xticks(rotation=45)\n",
    "plt.tight_layout()\n",
    "plt.show()"
   ]
  },
  {
   "cell_type": "code",
   "execution_count": null,
   "id": "5b7dcd5a-cc34-45dc-8f45-c2aadc1375a8",
   "metadata": {},
   "outputs": [],
   "source": [
    "# Combine all articles into a single string\n",
    "all_text = \" \".join(guardian_relationships_clean[\"text\"].tolist())"
   ]
  },
  {
   "cell_type": "code",
   "execution_count": null,
   "id": "cc392dc7-ab77-4ad4-a617-9b621a7e640f",
   "metadata": {},
   "outputs": [],
   "source": [
    "# Ensure NLTK stopwords are downloaded\n",
    "nltk.download(\"stopwords\")\n",
    "nltk.download(\"punkt_tab\")\n",
    "\n",
    "# Set up stop words\n",
    "stop_words = set(stopwords.words(\"english\"))"
   ]
  },
  {
   "cell_type": "code",
   "execution_count": null,
   "id": "e14d1d5b-9beb-4278-8395-37c16a50dae2",
   "metadata": {},
   "outputs": [],
   "source": [
    "# Generate the word cloud\n",
    "wordcloud = WordCloud(\n",
    "    width=800,\n",
    "    height=400,\n",
    "    background_color=\"white\",\n",
    "    stopwords=stop_words,\n",
    "    max_words=50,  # Limit to the top 100 words\n",
    "    colormap=\"viridis\"  # Change colormap if desired\n",
    ").generate(all_text)\n",
    "\n",
    "# Display the word cloud\n",
    "plt.figure(figsize=(10, 5))\n",
    "plt.imshow(wordcloud, interpolation=\"bilinear\")\n",
    "plt.axis(\"off\")  # Remove axes\n",
    "plt.show()"
   ]
  },
  {
   "cell_type": "code",
   "execution_count": null,
   "id": "4aab8e92-369d-48ad-8ec3-8fc9165506d6",
   "metadata": {},
   "outputs": [],
   "source": [
    "# Topic modelling"
   ]
  },
  {
   "cell_type": "code",
   "execution_count": null,
   "id": "8e5adbae-39f4-467a-a14e-523fe7e8e8b4",
   "metadata": {},
   "outputs": [],
   "source": [
    "# Preprocess the text\n",
    "def preprocess(text):\n",
    "    tokens = word_tokenize(text.lower())  # Tokenize and lowercase\n",
    "    tokens = [word for word in tokens if word.isalpha()]  # Keep alphabetic tokens only\n",
    "    stop_words = set(stopwords.words(\"english\"))\n",
    "    tokens = [word for word in tokens if word not in stop_words]  # Remove stop words\n",
    "    return \" \".join(tokens)\n",
    "\n",
    "# Apply preprocessing to all article text\n",
    "guardian_relationships_no_na = guardian_relationships[guardian_relationships[\"text\"].notna()].copy()\n",
    "guardian_relationships_no_na[\"processed_text\"] = guardian_relationships_no_na[\"text\"].apply(preprocess)\n",
    "\n",
    "# Convert text to a document-term matrix\n",
    "vectorizer = CountVectorizer(max_features=1000, stop_words=\"english\")  # Limit to 1000 features\n",
    "dtm = vectorizer.fit_transform(guardian_relationships_no_na[\"processed_text\"])\n",
    "\n",
    "# Apply LDA\n",
    "lda = LatentDirichletAllocation(n_components=3, random_state=42)  # Set 5 topics\n",
    "lda.fit(dtm)\n",
    "\n",
    "# Display topics\n",
    "for i, topic in enumerate(lda.components_):\n",
    "    top_words = [vectorizer.get_feature_names_out()[index] for index in topic.argsort()[-5:]]  # Top 10 words\n",
    "    print(f\"Topic {i+1}: {\", \".join(top_words)}\")\n"
   ]
  }
 ],
 "metadata": {
  "kernelspec": {
   "display_name": "Python 3 (ipykernel)",
   "language": "python",
   "name": "python3"
  },
  "language_info": {
   "codemirror_mode": {
    "name": "ipython",
    "version": 3
   },
   "file_extension": ".py",
   "mimetype": "text/x-python",
   "name": "python",
   "nbconvert_exporter": "python",
   "pygments_lexer": "ipython3",
   "version": "3.12.2"
  }
 },
 "nbformat": 4,
 "nbformat_minor": 5
}
